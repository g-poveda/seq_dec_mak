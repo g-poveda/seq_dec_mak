{
 "cells": [
  {
   "cell_type": "markdown",
   "id": "4fc00c69",
   "metadata": {},
   "source": [
    "# Resource project scheduling problems\n",
    "\n",
    "## Learning Objectives\n",
    "\n",
    "By the end of this notebook, you will be able to:\n",
    "\n",
    "* **Define** a Resource Constrained Project Scheduling Problem (RCPSP) and its key components.\n",
    "* **Load and inspect** a standard scheduling problem instance using the `discrete-optimization` library.\n",
    "* **Visualize** the problem's precedence constraints as a network graph.\n",
    "* **Understand and compute** the Critical Path to find a lower bound for the project's duration.\n",
    "* **Implement** a fundamental scheduling heuristic: the Serial Schedule Generation Scheme (SGS).\n",
    "* **Evaluate** the quality of a generated schedule by its makespan."
   ]
  },
  {
   "cell_type": "markdown",
   "id": "95cb5e32",
   "metadata": {},
   "source": [
    "## RCPSP definition\n",
    "The problem is made of $M$ activities that have precedence constraints. That means that if activity $j\\in[1,M]$ is a successor of activity $i\\in[1,M]$, then activity $i$ must be completed before activity $j$ can be started\n",
    "\n",
    "On top of these constraints, each project is assigned a set of K renewable resources where each resource $k$ is available in $R_{k}$ units for the entire duration of the project. Each activity may require one or more of these resources to be completed. While scheduling the activities, the daily resource usage for resource $k$ can not exceed $R_{k}$ units.\n",
    "\n",
    "Each activity $j$ takes $d_{j}$ time units to complete.\n",
    "\n",
    "The overall goal of the problem is usually to minimize the makespan.\n",
    "\n",
    "A classic variant of RCPSP is the multimode RCPSP where each task can be executed in several ways (one way=one mode). A typical example is :\n",
    "\n",
    "Mode n°1 'Fast mode': high resource consumption and fast\n",
    "Mode n°2 'Slow mode' : low resource consumption but slow"
   ]
  },
  {
   "cell_type": "markdown",
   "id": "61bae637",
   "metadata": {},
   "source": [
    "## Prerequisites\n",
    "\n",
    "Before running this notebook, you need to \n",
    "- install discrete-optimization in your jupyter kernel\n",
    "    ```\n",
    "    pip install discrete-optimization\n",
    "    ```"
   ]
  },
  {
   "cell_type": "code",
   "execution_count": null,
   "id": "d3796a05",
   "metadata": {},
   "outputs": [],
   "source": [
    "#!pip install discrete_optimization # should take 2 minutes ?"
   ]
  },
  {
   "cell_type": "markdown",
   "id": "78064b0d",
   "metadata": {},
   "source": [
    "## Imports"
   ]
  },
  {
   "cell_type": "code",
   "execution_count": null,
   "id": "688d4dce",
   "metadata": {},
   "outputs": [],
   "source": [
    "import os\n",
    "os.environ[\"DO_SKIP_MZN_CHECK\"] = \"1\"\n",
    "from typing import List, Hashable\n",
    "import logging\n",
    "import random\n",
    "import matplotlib.pyplot as plt\n",
    "import nest_asyncio\n",
    "import networkx as nx\n",
    "import numpy as np\n",
    "from discrete_optimization.datasets import fetch_data_from_psplib\n",
    "from discrete_optimization.rcpsp.problem import RcpspProblem, RcpspSolution\n",
    "from discrete_optimization.rcpsp.parser import get_data_available, parse_file\n",
    "from discrete_optimization.rcpsp.utils import (\n",
    "    Graph,\n",
    "    compute_graph_rcpsp,\n",
    "    plot_ressource_view,\n",
    "    plot_task_gantt,\n",
    ")\n",
    "# patch asyncio so that applications using async functions can run in jupyter\n",
    "nest_asyncio.apply()\n",
    "# set logging level\n",
    "logging.basicConfig(level=logging.INFO)"
   ]
  },
  {
   "cell_type": "markdown",
   "id": "5b44269b",
   "metadata": {},
   "source": [
    "### Download datasets\n",
    "\n",
    "If not yet available, we import the datasets from [psplib](https://www.om-db.wi.tum.de/psplib/data.html)."
   ]
  },
  {
   "cell_type": "code",
   "execution_count": null,
   "id": "4750fb83",
   "metadata": {},
   "outputs": [],
   "source": [
    "needed_datasets = [\"j301_1.sm\"]\n",
    "download_needed = False\n",
    "try:\n",
    "    files_available_paths = get_data_available()\n",
    "    for dataset in needed_datasets:\n",
    "        if len([f for f in files_available_paths if dataset in f]) == 0:\n",
    "            download_needed = True\n",
    "            break\n",
    "except:\n",
    "    download_needed = True\n",
    "\n",
    "if download_needed:\n",
    "    fetch_data_from_psplib()"
   ]
  },
  {
   "cell_type": "markdown",
   "id": "538a43b3",
   "metadata": {},
   "source": [
    "## Loading the problems definition"
   ]
  },
  {
   "cell_type": "code",
   "execution_count": null,
   "id": "e047b65d",
   "metadata": {},
   "outputs": [],
   "source": [
    "files_available = get_data_available()"
   ]
  },
  {
   "cell_type": "markdown",
   "id": "e1f44afe",
   "metadata": {},
   "source": [
    "Now we can load some RCPSP problem from provided examples"
   ]
  },
  {
   "cell_type": "code",
   "execution_count": null,
   "id": "2b51ed13",
   "metadata": {},
   "outputs": [],
   "source": [
    "filepath = [f for f in get_data_available() if \"j301_1.sm\" in f][0]\n",
    "with open(filepath, \"rt\") as f:\n",
    "    print(f.read())"
   ]
  },
  {
   "cell_type": "markdown",
   "id": "6f969467",
   "metadata": {},
   "source": [
    "There are 32 jobs, including the source task (1) and the sink task (32). \n",
    "\n",
    "- The first part of the file describe the precedence constraints : \n",
    "  > Task $1$ should finish before task $2$, $3$, $4$ start.\n",
    "  \n",
    "- The second part of the file details the duration and resource usage per task : \n",
    "  > Task $3$ lasts 4 units of times and requires 10 units of $R_1$"
   ]
  },
  {
   "cell_type": "markdown",
   "id": "0420bee3",
   "metadata": {},
   "source": [
    "### Parsing file\n",
    "We parse the file to get a RCPSP model object in discrete-optimization library."
   ]
  },
  {
   "cell_type": "code",
   "execution_count": null,
   "id": "32192866",
   "metadata": {},
   "outputs": [],
   "source": [
    "filepath = [f for f in get_data_available() if \"j301_1.sm\" in f][0]\n",
    "rcpsp_problem = parse_file(filepath)\n",
    "print(type(rcpsp_problem))\n",
    "print(rcpsp_problem)\n",
    "print(\"Nb jobs : \", rcpsp_problem.n_jobs)\n",
    "print(\"Precedences : \", rcpsp_problem.successors)\n",
    "print(\"Resources Availability : \", rcpsp_problem.resources)"
   ]
  },
  {
   "cell_type": "markdown",
   "id": "0d2aeb95",
   "metadata": {},
   "source": [
    "### Precedence graph\n",
    "We can have a visual version of the precedence graph :"
   ]
  },
  {
   "cell_type": "code",
   "execution_count": null,
   "id": "f388fcff-1970-46f9-a381-dd975ed25c68",
   "metadata": {},
   "outputs": [],
   "source": [
    "def plot_predecessors_graph(rcpsp_problem: RcpspProblem, \n",
    "                            path: list[Hashable] = None):\n",
    "    graph_nx = rcpsp_problem.graph.to_networkx()\n",
    "    for edge in graph_nx.edges():\n",
    "        graph_nx[edge[0]][edge[1]][\"neg_min_duration\"] = -1 #min([rcpsp_problem.mode_details[edge[1]][mode][\"duration\"]\n",
    "                                                            #  for mode in rcpsp_problem.mode_details[edge[1]]])\n",
    "        if edge[1] == rcpsp_problem.sink_task:\n",
    "            graph_nx[edge[0]][edge[1]][\"neg_min_duration\"] = -1\n",
    "    shortest_path_length = nx.shortest_path_length(graph_nx, source=rcpsp_problem.source_task, weight=\"neg_min_duration\", method=\"bellman-ford\")\n",
    "    length_to_nodes = {}\n",
    "    for node, length in shortest_path_length.items():\n",
    "        if -length not in length_to_nodes:\n",
    "            length_to_nodes[-length] = []\n",
    "        length_to_nodes[-length].append(node)\n",
    "    \n",
    "    # Determine the maximum layer depth to position the sink task\n",
    "    max_layer_depth = max(length_to_nodes.keys())\n",
    "    \n",
    "    position = {}\n",
    "    for length in sorted(length_to_nodes.keys()):\n",
    "        nodes_in_layer = sorted(length_to_nodes[length]) # Sort nodes for consistent y-ordering\n",
    "        # Distribute y-coordinates evenly for nodes in the same layer\n",
    "        for i, node in enumerate(nodes_in_layer):\n",
    "            position[node] = (length, i * 2) # Multiplier '2' for better vertical spacing\n",
    "    \n",
    "    # Explicitly ensure the sink task is at the maximum rightmost position\n",
    "    # If it's already there, this won't change much. If not, it will push it.\n",
    "    # We'll set its x-coordinate to max_layer_depth + 1 (or any value greater than max_layer_depth)\n",
    "    # and its y-coordinate to be centered, or whatever works best for single node layer\n",
    "    sink_task = rcpsp_problem.sink_task\n",
    "    if sink_task in position: # Ensure the sink task is in the graph\n",
    "        position[sink_task] = (max_layer_depth + 2, 0) # Push to an even further right layer, centered vertically\n",
    "    \n",
    "    # different color for source and sink task\n",
    "    sink_source_color = \"#FFB000\"  # Orange\n",
    "    normal_task_color = \"#648FFF\"  # Blue\n",
    "    node_color = [normal_task_color] * len(graph_nx.nodes())\n",
    "    # Note: Assuming your graph_nx nodes are 1-indexed as in your problem description\n",
    "    if rcpsp_problem.source_task in graph_nx.nodes():\n",
    "        node_color[list(graph_nx.nodes()).index(rcpsp_problem.source_task)] = sink_source_color\n",
    "    if rcpsp_problem.sink_task in graph_nx.nodes():\n",
    "        node_color[list(graph_nx.nodes()).index(rcpsp_problem.sink_task)] = sink_source_color\n",
    "    \n",
    "    # plot\n",
    "    fig, ax = plt.subplots(1, figsize=(18, 10))\n",
    "    nx.draw_networkx(\n",
    "        graph_nx,\n",
    "        pos=position,\n",
    "        node_color=node_color,\n",
    "        node_size=1200,  # Increase node size\n",
    "        font_size=9,    # Adjust label font size\n",
    "        with_labels=True,\n",
    "        width=1.5,       # Make edges slightly thicker\n",
    "        edge_color=\"#A3A3A3\", # Desaturated edge color for non-critical\n",
    "        alpha=0.7,       # Slightly transparent edges\n",
    "        arrows=True,     # Ensure arrows are visible\n",
    "        arrowsize=15,    # Adjust arrow size\n",
    "        font_weight='bold' # Make labels bold\n",
    "    )\n",
    "    \n",
    "    if path is not None:\n",
    "        edges = [(e0, e1) for e0,e1 in zip(path[:-1], path[1:])]\n",
    "        nx.draw_networkx_edges(\n",
    "            graph_nx,\n",
    "            pos=position,\n",
    "            edgelist=edges,\n",
    "            edge_color=\"red\", # Red for critical path\n",
    "            width=10,          # Thicker critical path edges\n",
    "            ax=ax,\n",
    "            arrows=True,\n",
    "            arrowsize=15)\n",
    "        # Highlight critical path nodes\n",
    "        critical_nodes_set = set(path) # Use a set for faster lookup\n",
    "        node_colors_critical = []\n",
    "        for node in graph_nx.nodes():\n",
    "            if node in critical_nodes_set:\n",
    "                node_colors_critical.append(\"red\") # Critical nodes in red\n",
    "            elif node == rcpsp_problem.source_task or node == rcpsp_problem.sink_task:\n",
    "                node_colors_critical.append(sink_source_color) # Source/sink color\n",
    "            else:\n",
    "                node_colors_critical.append(normal_task_color) # Normal task color\n",
    "        print(node_colors_critical)\n",
    "        nx.draw_networkx_nodes(\n",
    "            graph_nx,\n",
    "            pos=position,\n",
    "            node_color=node_colors_critical, # Apply per-node color based on critical path\n",
    "            node_size=1300,   # Slightly larger for emphasis\n",
    "            edgecolors=\"black\", # Add a black border\n",
    "            linewidths=1.5,     # Thicker border for critical nodes\n",
    "            ax=ax\n",
    "        )\n",
    "    \n",
    "    plt.title(\"RCPSP Precedence Graph\", fontsize=18)\n",
    "    plt.xlabel(\"Task Layer/Depth\", fontsize=12)\n",
    "    plt.ylabel(\"Vertical Spacing (within layer)\", fontsize=12)\n",
    "    plt.grid(True, linestyle='--', alpha=0.6)\n",
    "    plt.tight_layout()\n",
    "    plt.show()\n",
    "    "
   ]
  },
  {
   "cell_type": "code",
   "execution_count": null,
   "id": "992a3cd0",
   "metadata": {},
   "outputs": [],
   "source": [
    "plot_predecessors_graph(rcpsp_problem=rcpsp_problem)"
   ]
  },
  {
   "cell_type": "markdown",
   "id": "f2a4e23a",
   "metadata": {},
   "source": [
    "# Compute critical path"
   ]
  },
  {
   "cell_type": "markdown",
   "id": "f5ae66ef",
   "metadata": {},
   "source": [
    "The critical path in project management is the longest path in the problem that can't be compressed, therefore it is a lower bound on the optimal makespan that is reachable. It represents a path in the precedence graph.\n",
    "To compute the critical, one can compute a largest path in the precedence constraints. "
   ]
  },
  {
   "cell_type": "code",
   "execution_count": null,
   "id": "0282be19",
   "metadata": {},
   "outputs": [],
   "source": [
    "import networkx as nx\n",
    "graph_nx = rcpsp_problem.graph.to_networkx()\n",
    "for edge in graph_nx.edges():\n",
    "    graph_nx[edge[0]][edge[1]][\"min_duration\"] = min([rcpsp_problem.mode_details[edge[1]][mode][\"duration\"]\n",
    "                                                      for mode in rcpsp_problem.mode_details[edge[1]]])\n",
    "    if edge[1] == rcpsp_problem.sink_task:\n",
    "        graph_nx[edge[0]][edge[1]][\"min_duration\"] = 1\n",
    "path = nx.dag_longest_path(G=graph_nx, weight='min_duration', \n",
    "                           default_weight=1, topo_order=None)\n",
    "edges = [(n1, n2) for n1, n2 in zip(path[:-1], path[1:])]\n",
    "duration = sum(graph_nx[n[0]][n[1]][\"min_duration\"] for n in edges)\n",
    "print(\"Duration of critical path : \", duration)\n",
    "print(path)"
   ]
  },
  {
   "cell_type": "markdown",
   "id": "906f01da",
   "metadata": {},
   "source": [
    "### Plot the critical path : "
   ]
  },
  {
   "cell_type": "code",
   "execution_count": null,
   "id": "f45b4231",
   "metadata": {},
   "outputs": [],
   "source": [
    "plot_predecessors_graph(rcpsp_problem, path=path)"
   ]
  },
  {
   "cell_type": "markdown",
   "id": "84be7cd9",
   "metadata": {},
   "source": [
    "## Other procedure to compute critical path or minimum project duration"
   ]
  },
  {
   "cell_type": "markdown",
   "id": "6ed6bdce",
   "metadata": {},
   "source": [
    "The critical path can be computed by a graph procedure described in https://www.youtube.com/watch?v=4oDLMs11Exs. It is a quite simple algorithm, doing forward and backward graph exploration. In the end it provides earliest start date, earliest finish date, and their counterpart (for a optimal schedule ignoring resource constraints) : latest start date, latest finish date."
   ]
  },
  {
   "cell_type": "code",
   "execution_count": null,
   "id": "e321108f",
   "metadata": {},
   "outputs": [],
   "source": [
    "from discrete_optimization.rcpsp.solvers.cpm import CpmRcpspSolver\n",
    "solver = CpmRcpspSolver(rcpsp_problem)\n",
    "critical_path = solver.run_classic_cpm()\n",
    "edges = [(pi, pi1) for pi, pi1 in zip(critical_path[:-1], critical_path[1:])]\n",
    "print(solver.map_node[rcpsp_problem.sink_task])"
   ]
  },
  {
   "cell_type": "markdown",
   "id": "56d742c3",
   "metadata": {},
   "source": [
    "The critical path can be identified as nodes where all the values are equals."
   ]
  },
  {
   "cell_type": "code",
   "execution_count": null,
   "id": "d40da405",
   "metadata": {},
   "outputs": [],
   "source": [
    "plot_predecessors_graph(rcpsp_problem, critical_path)"
   ]
  },
  {
   "cell_type": "markdown",
   "id": "ec1167a5",
   "metadata": {},
   "source": [
    "For ressource constrained scheduling problems, this forward/backward pass is not sufficient to compute a schedule, because the ressource capacity constraints are not taken into account. However the *ESD*, *LSD*, *EFD*, *LFD* values can be used in various heuristics to schedule tasks by priority."
   ]
  },
  {
   "cell_type": "markdown",
   "id": "2b2eefd3",
   "metadata": {},
   "source": [
    "## Plotting a solution"
   ]
  },
  {
   "cell_type": "code",
   "execution_count": null,
   "id": "6bf9f6cc",
   "metadata": {},
   "outputs": [],
   "source": [
    "some_solution = rcpsp_problem.get_dummy_solution()"
   ]
  },
  {
   "cell_type": "code",
   "execution_count": null,
   "id": "d8031b15",
   "metadata": {},
   "outputs": [],
   "source": [
    "from discrete_optimization.rcpsp.utils import plot_ressource_view, plot_task_gantt\n",
    "plot_ressource_view(rcpsp_problem, some_solution)\n",
    "plot_task_gantt(rcpsp_problem, some_solution)"
   ]
  },
  {
   "cell_type": "markdown",
   "id": "e228f559",
   "metadata": {},
   "source": [
    "## SGS : Serial Generation Scheme\n"
   ]
  },
  {
   "cell_type": "markdown",
   "id": "d0bed4a4",
   "metadata": {},
   "source": [
    "The SGS is a \"priority-based\" constructive heuristic. It takes a pre-defined priority list of tasks (a permutation) and builds a feasible schedule one task at a time.\n",
    "\n",
    "Here is the core logic for the single-mode case:\n",
    "\n",
    "1.  Initialize an empty `schedule` dictionary and set the start time of the `source` task to 0.\n",
    "2.  Maintain a set of `completed_tasks`, initially containing only the `source` task.\n",
    "3.  Loop until all tasks are scheduled:\n",
    "    - Find the first task `j` in your `permutation` that is **eligible** to be scheduled. A task is eligible if:\n",
    "        1. It is not already in `completed_tasks`.\n",
    "        2. All of its predecessors are in `completed_tasks`.\n",
    "    - Determine the **earliest possible start time** (`est_j`) for this task `j`. This time must satisfy:\n",
    "        1. **Precedence:** It must be greater than or equal to the finish times of all its predecessors.\n",
    "        2. **Resources:** It must be the first time `t >=` (precedence finish time) where there are enough available resources for the entire duration `d_j` of the task.\n",
    "    - **Schedule the task:** Set `schedule[j] = (est_j, est_j + d_j)`.\n",
    "    - **Update state:** Add `j` to `completed_tasks` and decrease the available resources for the time window `[est_j, est_j + d_j)`."
   ]
  },
  {
   "cell_type": "markdown",
   "id": "d824ab1e",
   "metadata": {},
   "source": [
    "## Exercise : \n",
    "Now, let's translate this logic into Python!"
   ]
  },
  {
   "cell_type": "code",
   "execution_count": null,
   "id": "0310dc66",
   "metadata": {},
   "outputs": [],
   "source": [
    "import numpy as np\n",
    "from typing import List, Hashable\n",
    "\n",
    "def sgs_algorithm(rcpsp_problem: RcpspProblem,\n",
    "                  permutation_of_task: List[Hashable],\n",
    "                  predecessors: dict[Hashable, set[Hashable]]):\n",
    "    # Compute a predecessors mapping for each task. \n",
    "    if predecessors is None:\n",
    "        predecessors = {k: set() for k in rcpsp_problem.tasks_list}\n",
    "        for k in rcpsp_problem.successors:\n",
    "            succ = rcpsp_problem.successors[k]\n",
    "            for s in succ:\n",
    "                predecessors[s].add(k)\n",
    "\n",
    "    # Pre-compute durations for each task (assuming mode 1)\n",
    "    duration_task = {k: rcpsp_problem.mode_details[k][1][\"duration\"] for k in rcpsp_problem.tasks_list}\n",
    "    # Pre-compute resource needs for each task\n",
    "    resource_consumptions = {k: {r: rcpsp_problem.mode_details[k][1].get(r, 0) for r in rcpsp_problem.resources_list}\n",
    "                             for k in rcpsp_problem.tasks_list}\n",
    "    # Initialize the schedule dictionary to store start and end times\n",
    "    schedule = {t: {\"start_time\": None, \"end_time\": None} for t in rcpsp_problem.tasks_list}\n",
    "    # Resource availability is tracked over the project horizon.\n",
    "    # It's a dictionary of arrays, one for each resource.\n",
    "    resources_availability = {r: np.array(rcpsp_problem.get_resource_availability_array(r))\n",
    "                              for r in rcpsp_problem.resources_list}\n",
    "    \n",
    "    # Set of tasks that are already scheduled and finished.\n",
    "    completed_tasks = set()\n",
    "\n",
    "    # The source task is the first to be scheduled, at time 0.\n",
    "    source_task = rcpsp_problem.source_task\n",
    "    schedule[source_task][\"start_time\"] = 0\n",
    "    schedule[source_task][\"end_time\"] = 0\n",
    "    completed_tasks.add(source_task)\n",
    "\n",
    "    # Main loop: continue until all tasks are scheduled\n",
    "    while len(completed_tasks) < rcpsp_problem.n_jobs:\n",
    "        # 1. Find the next eligible task from the permutation\n",
    "        next_task = None\n",
    "        \n",
    "        # 2. Determine the earliest start time based on PRECEDENCE constraints\n",
    "        # This is the maximum of the end times of all its predecessors.\n",
    "        earliest_start_by_pred = 0\n",
    "        \n",
    "\n",
    "        # 3. Find the final start time by also considering RESOURCE constraints\n",
    "        # Starting from earliest_start_by_pred, find the first time slot 't'\n",
    "        # where all required resources are available for the task's full duration.\n",
    "        start_of_task = 0\n",
    "        \n",
    "        # ... Your implementation here ...\n",
    "        \n",
    "        # 4. Schedule the task and update resource availability\n",
    "        schedule[next_task] = {\"start_time\": start_of_task, \"end_time\": start_of_task + duration_task[next_task]}\n",
    "        \n",
    "        # ... Your implementation here ...\n",
    "\n",
    "        # 5. Add the task to the set of completed tasks\n",
    "        completed_tasks.add(next_task)\n",
    "\n",
    "    return schedule"
   ]
  },
  {
   "cell_type": "markdown",
   "id": "b2f94f60",
   "metadata": {},
   "source": [
    "If you are blocked, you can retrieve one corrected version of the SGS by decommenting the following cell : "
   ]
  },
  {
   "cell_type": "code",
   "execution_count": null,
   "id": "ff0d8ae7",
   "metadata": {},
   "outputs": [],
   "source": [
    "#%load correction/nb1_correction.py"
   ]
  },
  {
   "cell_type": "markdown",
   "id": "2af1e088",
   "metadata": {},
   "source": [
    "## Testing the sgs : \n",
    "From the sgs output, it is quite easy to rebuild a RCPSPSolution object and check if it returns a feasible schedule, by calling the \".satisfy()\" function."
   ]
  },
  {
   "cell_type": "code",
   "execution_count": null,
   "id": "511de3fa",
   "metadata": {},
   "outputs": [],
   "source": [
    "tasks_list_permutation = list(rcpsp_problem.tasks_list)\n",
    "import random\n",
    "random.shuffle(tasks_list_permutation)\n",
    "schedule = sgs_algorithm(rcpsp_problem, tasks_list_permutation)\n",
    "print(schedule)\n",
    "solution = RcpspSolution(problem=rcpsp_problem, rcpsp_schedule=schedule)\n",
    "print(rcpsp_problem.satisfy(solution))"
   ]
  },
  {
   "cell_type": "markdown",
   "id": "577baa43",
   "metadata": {},
   "source": [
    "Evaluate : "
   ]
  },
  {
   "cell_type": "code",
   "execution_count": null,
   "id": "86aaf8ca",
   "metadata": {},
   "outputs": [],
   "source": [
    "rcpsp_problem.evaluate(solution)"
   ]
  },
  {
   "cell_type": "markdown",
   "id": "96f8892d",
   "metadata": {},
   "source": [
    "### Build a permutation based on critical path computation output :\n",
    "SGS can be seen as a priority based greedy algorithm, the more the task id is on the left side of the permutation, the more it has chance to be scheduled faster. \n",
    "We can therefore build heuristic ordering of the task and run SGS on it. One idea it to reuse output of the CPM algorithm to schedule first the task that have the lowest earliest finish date for example, but you can imagine other rules : "
   ]
  },
  {
   "cell_type": "code",
   "execution_count": null,
   "id": "c27b4d14",
   "metadata": {},
   "outputs": [],
   "source": [
    "# list sorted by EFD ?\n",
    "perm_efd = sorted(rcpsp_problem.tasks_list, \n",
    "                  key=lambda x: solver.map_node[x]._EFD)\n",
    "sol_efd = sgs_algorithm(rcpsp_problem, perm_efd)\n",
    "solution_efd = RcpspSolution(problem=rcpsp_problem, rcpsp_schedule=sol_efd)\n",
    "print(\"Available fields in CPM output : \", solver.map_node[1].__dict__.keys())\n",
    "\n",
    "perm_esd = sorted(rcpsp_problem.tasks_list, \n",
    "                  key=lambda x: solver.map_node[x]._ESD)\n",
    "sol_esd = sgs_algorithm(rcpsp_problem, perm_esd)\n",
    "solution_esd = RcpspSolution(problem=rcpsp_problem, rcpsp_schedule=sol_esd)\n",
    "\n",
    "# Try different methods ?\n",
    "# What would be your best results ?\n",
    "print(\"EFD \", rcpsp_problem.evaluate(solution_efd))\n",
    "print(\"ESD \", rcpsp_problem.evaluate(solution_esd))"
   ]
  },
  {
   "cell_type": "markdown",
   "id": "c1a65596",
   "metadata": {},
   "source": [
    "Can you find other priority rule to get better results, or use a random search on ordering to get better solutions ?"
   ]
  },
  {
   "cell_type": "markdown",
   "id": "068da39c-76d8-475e-b79c-58106eaace40",
   "metadata": {},
   "source": [
    "## Bonus : Improving Solutions with Random Sampling\n",
    "We can search for better solutions by trying many different priority lists. \n",
    "\n",
    "The following code implements a simple Random Sampling (also known as Random-Restart Hill Climbing). \n",
    "\n",
    "It generates many random permutations, runs the SGS for each, and keeps track of the best solution found.\n",
    "\n",
    "A true Local Search algorithm would be slightly different: it would start with one permutation and make small, systematic changes to it (like swapping two adjacent tasks) to explore its \"neighborhood\" for improvements. \n"
   ]
  },
  {
   "cell_type": "code",
   "execution_count": null,
   "id": "3ddf76c2-d670-4c4f-86cf-f8ba70356be0",
   "metadata": {},
   "outputs": [],
   "source": [
    "from copy import deepcopy\n",
    "def greedy_local_search(problem: RcpspProblem, n_iteration: int = 1000)->RcpspProblem:\n",
    "    current_permutation = deepcopy(problem.tasks_list)\n",
    "    random.shuffle(current_permutation)\n",
    "    schedule = sgs_algorithm(problem, current_permutation)\n",
    "    makespan = schedule[problem.sink_task][\"end_time\"]\n",
    "    best_makespan = makespan\n",
    "    best_permutation = deepcopy(current_permutation)\n",
    "    best_schedule = deepcopy(schedule)\n",
    "    for i in range(n_iteration):\n",
    "        random.shuffle(current_permutation)\n",
    "        schedule = sgs_algorithm(problem, current_permutation)\n",
    "        makespan = schedule[problem.sink_task][\"end_time\"]\n",
    "        if makespan < best_makespan:\n",
    "            print(\"Improved from \", best_makespan, \" to \", makespan)\n",
    "            best_makespan = makespan\n",
    "            best_permutation = deepcopy(current_permutation)\n",
    "            best_schedule = deepcopy(schedule)\n",
    "    return RcpspSolution(problem=problem, rcpsp_schedule=best_schedule)"
   ]
  },
  {
   "cell_type": "code",
   "execution_count": null,
   "id": "a65e43ba-1541-4d81-8b9f-c742c66b2923",
   "metadata": {},
   "outputs": [],
   "source": [
    "sol = greedy_local_search(problem=rcpsp_problem, n_iteration=10000)\n",
    "print(rcpsp_problem.satisfy(sol), rcpsp_problem.evaluate(sol))"
   ]
  },
  {
   "cell_type": "code",
   "execution_count": null,
   "id": "186de675-e22c-48f0-9b29-38d3266a89c4",
   "metadata": {},
   "outputs": [],
   "source": [
    "plot_ressource_view(rcpsp_problem, sol)\n",
    "plot_task_gantt(rcpsp_problem, sol)"
   ]
  },
  {
   "cell_type": "markdown",
   "id": "04a3ab5c",
   "metadata": {},
   "source": [
    "## [OPTIONAL] Bonus for those interested \n",
    "Going through this [Notebook](https://github.com/airbus/discrete-optimization/blob/master/notebooks/RCPSP%20tutorials/RCPSP-3%20Local%20search.ipynb), is using the \"vector\" representation of the schedule and run metaheuristics to compute better solutions.\n",
    "Algorithms used are https://en.wikipedia.org/wiki/Simulated_annealing,\n",
    "https://en.wikipedia.org/wiki/Hill_climbing"
   ]
  }
 ],
 "metadata": {
  "kernelspec": {
   "display_name": "Python 3 (ipykernel)",
   "language": "python",
   "name": "python3"
  },
  "language_info": {
   "codemirror_mode": {
    "name": "ipython",
    "version": 3
   },
   "file_extension": ".py",
   "mimetype": "text/x-python",
   "name": "python",
   "nbconvert_exporter": "python",
   "pygments_lexer": "ipython3",
   "version": "3.12.0"
  }
 },
 "nbformat": 4,
 "nbformat_minor": 5
}
